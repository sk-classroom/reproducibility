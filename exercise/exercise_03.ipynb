{
 "cells": [
  {
   "cell_type": "markdown",
   "metadata": {},
   "source": [
    "# Dimensionality Reduction\n",
    "\n",
    "In this exercise, we will learn several dimensionality reduction methods using the Penguin dataset.\n",
    "\n",
    "## Preprocessing\n"
   ]
  },
  {
   "cell_type": "code",
   "execution_count": null,
   "metadata": {},
   "outputs": [],
   "source": [
    "import seaborn as sns\n",
    "import pandas as pd\n",
    "import numpy as np\n",
    "from scipy import sparse\n",
    "\n",
    "# Load the penguins dataset\n",
    "data_table = sns.load_dataset(\"penguins\")\n",
    "data_table.head()\n",
    "\n",
    "# Impute the missing values\n",
    "for column in data_table.columns:\n",
    "    data_table[column] = data_table[column].fillna(\n",
    "        data_table[column].dropna().mode()[0]\n",
    "    )\n",
    "\n",
    "categorical_cols = [\"island\", \"sex\"]\n",
    "prep_data_table = pd.get_dummies(data_table, columns=categorical_cols, drop_first=True)\n",
    "\n",
    "X = prep_data_table.drop(columns=[\"species\"]).values.astype(float)\n",
    "y = prep_data_table[\"species\"].values\n",
    "feature_cols = prep_data_table.drop(columns=[\"species\"]).columns\n",
    "\n",
    "X = X.astype(float)\n",
    "ylabel, yids = np.unique(y, return_inverse=True)"
   ]
  },
  {
   "cell_type": "markdown",
   "metadata": {},
   "source": [
    "# Multi Dimensional Scaling (MDS)\n"
   ]
  },
  {
   "cell_type": "markdown",
   "metadata": {},
   "source": [
    "Let's apply the MDS using scikit learn package: https://scikit-learn.org/stable/modules/generated/sklearn.manifold.MDS.html\n"
   ]
  },
  {
   "cell_type": "code",
   "execution_count": null,
   "metadata": {},
   "outputs": [],
   "source": [
    "from sklearn.manifold import MDS\n",
    "import matplotlib.pyplot as plt\n",
    "\n",
    "# TODO: See the documentation for the MDS function and use it to project the data into 2D\n",
    "\n",
    "\n",
    "# Visualize the results\n",
    "sns.set_style(\"white\")\n",
    "sns.set(font_scale=1.2)\n",
    "sns.set_style(\"ticks\")\n",
    "fig, ax = plt.subplots(figsize=(7, 5))\n",
    "\n",
    "ax = sns.scatterplot(x=Xproj[:, 0], y=Xproj[:, 1], hue=y)\n",
    "\n",
    "# Label your axis.\n",
    "ax.set_xlabel(\"\")\n",
    "ax.set_ylabel(\"\")"
   ]
  },
  {
   "cell_type": "markdown",
   "metadata": {},
   "source": [
    "### Why was MDS not useful for this dataset? Can you think of any way to imporve the results 🤔?\n"
   ]
  },
  {
   "cell_type": "code",
   "execution_count": null,
   "metadata": {},
   "outputs": [],
   "source": [
    "# TODO: Fidn a way to show the structure for this dataset."
   ]
  },
  {
   "cell_type": "markdown",
   "metadata": {},
   "source": [
    "# Isomap\n",
    "\n",
    "https://scikit-learn.org/stable/modules/generated/sklearn.manifold.Isomap.html\n"
   ]
  },
  {
   "cell_type": "code",
   "execution_count": null,
   "metadata": {},
   "outputs": [],
   "source": [
    "from sklearn.manifold import Isomap\n",
    "\n",
    "# TODO: See the documentation for the MDS function and use it to project the data into 2D\n",
    "\n",
    "\n",
    "# Visualize the results\n",
    "sns.set_style(\"white\")\n",
    "sns.set(font_scale=1.2)\n",
    "sns.set_style(\"ticks\")\n",
    "fig, ax = plt.subplots(figsize=(7, 5))\n",
    "\n",
    "ax = sns.scatterplot(x=Xproj[:, 0], y=Xproj[:, 1], hue=y)\n",
    "\n",
    "# Label your axis.\n",
    "ax.set_xlabel(\"\")\n",
    "ax.set_ylabel(\"\")"
   ]
  },
  {
   "cell_type": "markdown",
   "metadata": {},
   "source": [
    "### Play with the number of neighbors and think about it's effect. Can you also explain why the effect is observed 🤔?\n"
   ]
  },
  {
   "cell_type": "markdown",
   "metadata": {},
   "source": [
    "# t-SNE\n"
   ]
  },
  {
   "cell_type": "markdown",
   "metadata": {},
   "source": [
    "https://scikit-learn.org/stable/modules/generated/sklearn.manifold.TSNE.html\n"
   ]
  },
  {
   "cell_type": "code",
   "execution_count": null,
   "metadata": {},
   "outputs": [],
   "source": [
    "from sklearn.manifold import TSNE\n",
    "\n",
    "# TODO: See the documentation for the MDS function and use it to project the data into 2D\n",
    "\n",
    "\n",
    "# Visualize the results\n",
    "sns.set_style(\"white\")\n",
    "sns.set(font_scale=1.2)\n",
    "sns.set_style(\"ticks\")\n",
    "fig, ax = plt.subplots(figsize=(7, 5))\n",
    "\n",
    "ax = sns.scatterplot(x=Xproj[:, 0], y=Xproj[:, 1], hue=y)\n",
    "\n",
    "# Label your axis.\n",
    "ax.set_xlabel(\"\")\n",
    "ax.set_ylabel(\"\")"
   ]
  },
  {
   "cell_type": "markdown",
   "metadata": {},
   "source": [
    "# UMAP (Optional)\n",
    "* https://umap-learn.readthedocs.io/en/latest/api.html\n"
   ]
  },
  {
   "cell_type": "code",
   "execution_count": null,
   "metadata": {},
   "outputs": [],
   "source": [
    "import umap\n",
    "\n",
    "\n",
    "# TODO: See the documentation for the MDS function and use it to project the data into 2D\n",
    "\n",
    "\n",
    "# Visualize the results\n",
    "sns.set_style(\"white\")\n",
    "sns.set(font_scale=1.2)\n",
    "sns.set_style(\"ticks\")\n",
    "fig, ax = plt.subplots(figsize=(7, 5))\n",
    "\n",
    "ax = sns.scatterplot(x=Xproj[:, 0], y=Xproj[:, 1], hue=y)\n",
    "\n",
    "# Label your axis.\n",
    "ax.set_xlabel(\"\")\n",
    "ax.set_ylabel(\"\")"
   ]
  }
 ],
 "metadata": {
  "kernelspec": {
   "display_name": "applsoftcomp",
   "language": "python",
   "name": "python3"
  },
  "language_info": {
   "codemirror_mode": {
    "name": "ipython",
    "version": 3
   },
   "file_extension": ".py",
   "mimetype": "text/x-python",
   "name": "python",
   "nbconvert_exporter": "python",
   "pygments_lexer": "ipython3",
   "version": "3.11.7"
  }
 },
 "nbformat": 4,
 "nbformat_minor": 2
}
