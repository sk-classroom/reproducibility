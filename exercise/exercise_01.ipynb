{
 "cells": [
  {
   "cell_type": "markdown",
   "metadata": {},
   "source": [
    "# Dimensionality Reduction\n",
    "\n",
    "In this exercise, we will learn several dimensionality reduction methods using the Penguin dataset.\n",
    "\n",
    "## Preprocessing\n"
   ]
  },
  {
   "cell_type": "code",
   "execution_count": null,
   "metadata": {},
   "outputs": [],
   "source": [
    "import seaborn as sns\n",
    "import pandas as pd\n",
    "import numpy as np\n",
    "\n",
    "# Load the penguins dataset\n",
    "data_table = sns.load_dataset(\"penguins\")\n",
    "data_table.head()"
   ]
  },
  {
   "cell_type": "markdown",
   "metadata": {},
   "source": [
    "We will use (1) species as the *class* labels, and (2) other columns as the *features*.\n",
    "\n",
    "Let's preprocess the data by \n",
    "1. Impute the missing value with the most frequent value\n",
    "2. Represent the categorical variables using one-hot encoding\n",
    "\n",
    "Let's create variable `y` and variable `X` for the class and features, respectively.\n"
   ]
  },
  {
   "cell_type": "code",
   "execution_count": null,
   "metadata": {},
   "outputs": [],
   "source": [
    "# TODO: Impute the missing values"
   ]
  },
  {
   "cell_type": "code",
   "execution_count": null,
   "metadata": {},
   "outputs": [],
   "source": [
    "# TODO: Represent the island and sex using one-hot encoding\n",
    "X = ...\n",
    "y = ..."
   ]
  },
  {
   "cell_type": "code",
   "execution_count": null,
   "metadata": {},
   "outputs": [],
   "source": [
    "X = X.astype(float)\n",
    "ylabel, yids = np.unique(y, return_inverse=True)"
   ]
  },
  {
   "cell_type": "markdown",
   "metadata": {},
   "source": [
    "# Principal Component Analysis\n",
    "\n",
    "Let's implement PCA using numpy. \n",
    "1. Center the data (the average of each feature is 0)\n",
    "2. Compute the covariance matrix\n",
    "3. Compute the 2 eigenvectors with the largest eigenvalues\n",
    "4. Project X to 2D by using the eigenvectors\n"
   ]
  },
  {
   "cell_type": "code",
   "execution_count": null,
   "metadata": {},
   "outputs": [],
   "source": [
    "import numpy as np\n",
    "\n",
    "# TODO: Center the data\n",
    "\n",
    "# TODO: Compute the covariance matrix\n",
    "\n",
    "# TODO: Compute the 2 largest eigenvalues and corresponding eigenvectors\n",
    "# Use np.linalg.eig or scipy.linalg.eigs\n",
    "\n",
    "# TODO: Project the data onto the 2D by using the eigenvectors"
   ]
  },
  {
   "cell_type": "markdown",
   "metadata": {},
   "source": [
    "Let's visualize the projected data. Your todo is to properly labels X and Y as \"PC1\" and \"PC2\", respectively. You can do this by ax.set_xlabel and ax.set_ylabel.\n"
   ]
  },
  {
   "cell_type": "code",
   "execution_count": null,
   "metadata": {},
   "outputs": [],
   "source": [
    "import matplotlib.pyplot as plt\n",
    "\n",
    "sns.set_style(\"white\")\n",
    "sns.set(font_scale=1.2)\n",
    "sns.set_style(\"ticks\")\n",
    "fig, ax = plt.subplots(figsize=(7, 5))\n",
    "\n",
    "ax = sns.scatterplot(x=Xproj[:, 0], y=Xproj[:, 1], hue=y)\n",
    "\n",
    "# Label your axis.\n",
    "ax.set_xlabel(\"PC1\")\n",
    "ax.set_ylabel(\"PC2\")"
   ]
  }
 ],
 "metadata": {
  "kernelspec": {
   "display_name": "applsoftcomp",
   "language": "python",
   "name": "python3"
  },
  "language_info": {
   "codemirror_mode": {
    "name": "ipython",
    "version": 3
   },
   "file_extension": ".py",
   "mimetype": "text/x-python",
   "name": "python",
   "nbconvert_exporter": "python",
   "pygments_lexer": "ipython3",
   "version": "3.11.7"
  }
 },
 "nbformat": 4,
 "nbformat_minor": 2
}
